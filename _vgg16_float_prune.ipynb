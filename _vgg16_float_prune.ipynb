{
 "cells": [
  {
   "cell_type": "code",
   "execution_count": null,
   "metadata": {},
   "outputs": [],
   "source": [
    "import torch\n",
    "import torch.nn as nn\n",
    "\n",
    "from pyfiles import *\n",
    "\n",
    "import os\n",
    "os.environ[\"CUDA_DEVICE_ORDER\"]=\"PCI_BUS_ID\"   \n",
    "os.environ[\"CUDA_VISIBLE_DEVICES\"]=\"0\"\n",
    "\n",
    "full_model_path = f\"result/VGG16_Full/model_best.pth.tar\"\n",
    "lr = 3e-3\n",
    "epochs = 100\n",
    "prune_schedule = {0: 0.4,\n",
    "                  12: 0.2,\n",
    "                  24: 0.1,\n",
    "                  32: 0.1}\n",
    "sparsity = sum(prune_schedule.values())\n",
    "\n",
    "\n",
    "stype = 'os'\n",
    "\n",
    "\n",
    "model_name = f\"__VGG16_{stype}_prune_{sparsity:.2f}\"\n",
    "fdir = 'result/' + model_name\n",
    "\n",
    "model = VGG16()\n",
    "checkpoint = torch.load(full_model_path, weights_only=False)\n",
    "model.load_state_dict(checkpoint['state_dict'])\n",
    "model.cuda()\n",
    "\n",
    "criterion = nn.CrossEntropyLoss().cuda()\n",
    "optimizer = torch.optim.AdamW(model.parameters(), lr=lr)"
   ]
  },
  {
   "cell_type": "code",
   "execution_count": null,
   "metadata": {},
   "outputs": [],
   "source": [
    "train_model(model, fdir, criterion, optimizer, epochs, prune_schedule, stype=stype)"
   ]
  },
  {
   "cell_type": "code",
   "execution_count": null,
   "metadata": {},
   "outputs": [],
   "source": [
    "model = VGG16()\n",
    "attach_prune(model)\n",
    "print(f'Model param count: {count_param(model)}')\n",
    "\n",
    "checkpoint = torch.load(f'{fdir}/model_best.pth.tar', weights_only=False)\n",
    "model.load_state_dict(checkpoint['state_dict'])\n",
    "model.cuda()\n",
    "\n",
    "val_model(model)\n",
    "\n",
    "print_sparsity(model)"
   ]
  }
 ],
 "metadata": {
  "kernelspec": {
   "display_name": "conda-forge",
   "language": "python",
   "name": "python3"
  },
  "language_info": {
   "codemirror_mode": {
    "name": "ipython",
    "version": 3
   },
   "file_extension": ".py",
   "mimetype": "text/x-python",
   "name": "python",
   "nbconvert_exporter": "python",
   "pygments_lexer": "ipython3",
   "version": "3.12.7"
  }
 },
 "nbformat": 4,
 "nbformat_minor": 2
}
